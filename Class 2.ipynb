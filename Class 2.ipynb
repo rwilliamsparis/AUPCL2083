{
 "cells": [
  {
   "cell_type": "markdown",
   "metadata": {},
   "source": [
    "# Files and strings\n",
    "\n",
    "*This Notebook was prepared by [Ryan Heuser](https://ryanheuser.org). His original excellent original notebooks can be found [here](https://github.com/quadrismegistus/literarytextmining). I (Russell Williams) have made some light amendments to use his material in the context of our course*\n",
    "\n",
    "In this notebook we'll focus on 'strings' and how to do things with them, like find and count instances of a word. At the very end, we'll learn how to open a text file and read it to a string. Text files are just big strings, so text mining always begins with string processing.\n",
    "\n",
    "*This notebook began as an adaption of this [strings tutorial by Jerry Pusinen](https://jerry-git.github.io/learn-python3/notebooks/beginner/html/strings.html).*"
   ]
  },
  {
   "cell_type": "markdown",
   "metadata": {},
   "source": [
    "## String slicing\n",
    "\n",
    "We just looked at some of the methods strings have. There's one more major functionality of strings: slicing.\n",
    "\n",
    "'Slicing' refers to slicing off a specific piece of the string.\n",
    "\n",
    "This is all coordinated through two brackets at the end of a string:\n",
    "\n",
    "    my_string[a:b]\n",
    "    \n",
    "    a = number of characters/letters into my_string to start at\n",
    "    b = number of characters/letters into my_string to end at\n",
    "    \n",
    "For instance...\n",
    "\n",
    "### Slice off the beginning of strings\n",
    "\n",
    "To get the first N characters:\n",
    "\n",
    "    my_string[:N]"
   ]
  },
  {
   "cell_type": "code",
   "execution_count": 37,
   "metadata": {},
   "outputs": [],
   "source": [
    "alphabet = 'abcdefghijklmnopqrstuvwxyz'"
   ]
  },
  {
   "cell_type": "markdown",
   "metadata": {},
   "source": [
    "Each letter of the alphabet string has an index:\n",
    "\n",
    "    a   b   c   d   e   f   g   h   i   j   k   l   m   n   o   p   q   r   s   t   u   v   w   x   y   z\n",
    "    |   |   |   |   |   |   |   |   |   |   |   |   |   |   |   |   |   |   |   |   |   |   |   |   |   |\n",
    "    0   1   2   3   4   5   6   7   8   9  10  11  12  13  14  15  16  17  18  19  20  21  22  23  24  25"
   ]
  },
  {
   "cell_type": "code",
   "execution_count": null,
   "metadata": {},
   "outputs": [],
   "source": [
    "# first three letters\n",
    "\n",
    "alphabet[0:3]     # means: starting at 0, and including everything until 3, which is not included\n",
    "                  # or:    the first 3 letters"
   ]
  },
  {
   "cell_type": "code",
   "execution_count": null,
   "metadata": {},
   "outputs": [],
   "source": [
    "# first 10 letters\n",
    "alphabet[0:10]"
   ]
  },
  {
   "cell_type": "code",
   "execution_count": null,
   "metadata": {},
   "outputs": [],
   "source": [
    "alphabet[:10]          # also works"
   ]
  },
  {
   "cell_type": "code",
   "execution_count": null,
   "metadata": {},
   "outputs": [],
   "source": [
    "# @TODO: slice 'William' away from 'William Shakespeare'\n",
    "\n",
    "bardname='William Shakespeare'\n"
   ]
  },
  {
   "cell_type": "code",
   "execution_count": null,
   "metadata": {},
   "outputs": [],
   "source": [
    "# @TODO: slice off your own first name\n",
    "\n",
    "fullname=''\n"
   ]
  },
  {
   "cell_type": "markdown",
   "metadata": {},
   "source": [
    "### Slice off the ends of strings"
   ]
  },
  {
   "cell_type": "markdown",
   "metadata": {},
   "source": [
    "The alphabet indices in reverse\n",
    "\n",
    "    a   b   c   d   e   f   g   h   i   j   k   l   m   n   o   p   q   r   s   t   u   v   w   x   y   z\n",
    "    |   |   |   |   |   |   |   |   |   |   |   |   |   |   |   |   |   |   |   |   |   |   |   |   |   |\n",
    "    -26 -25 -24 -23 -22 -21 -20 -19 -18 -17 -16 -15 -14 -13 -12 -11 -10 -9  -8  -7  -6  -5  -4  -3  -2  -1"
   ]
  },
  {
   "cell_type": "code",
   "execution_count": null,
   "metadata": {},
   "outputs": [],
   "source": [
    "# last 3 letters\n",
    "alphabet[-3:]   "
   ]
  },
  {
   "cell_type": "code",
   "execution_count": null,
   "metadata": {},
   "outputs": [],
   "source": [
    "# last 10 letters\n",
    "alphabet[-10:]"
   ]
  },
  {
   "cell_type": "code",
   "execution_count": null,
   "metadata": {},
   "outputs": [],
   "source": [
    "# @TODO slice 'Shakespeare' from 'William Shakespeare'\n",
    "\n"
   ]
  },
  {
   "cell_type": "code",
   "execution_count": null,
   "metadata": {},
   "outputs": [],
   "source": [
    "# @TODO slice off your last name\n",
    "\n"
   ]
  },
  {
   "cell_type": "markdown",
   "metadata": {},
   "source": [
    "### Slice the middles of strings"
   ]
  },
  {
   "cell_type": "markdown",
   "metadata": {},
   "source": [
    "    a   b   c   d   e   f   g   h   i   j   k   l   m   n   o   p   q   r   s   t   u   v   w   x   y   z\n",
    "    |   |   |   |   |   |   |   |   |   |   |   |   |   |   |   |   |   |   |   |   |   |   |   |   |   |\n",
    "    0   1   2   3   4   5   6   7   8   9  10  11  12  13  14  15  16  17  18  19  20  21  22  23  24  25"
   ]
  },
  {
   "cell_type": "code",
   "execution_count": null,
   "metadata": {},
   "outputs": [],
   "source": [
    "# the first three\n",
    "alphabet[0:3]"
   ]
  },
  {
   "cell_type": "code",
   "execution_count": null,
   "metadata": {},
   "outputs": [],
   "source": [
    "# the next four letters \n",
    "alphabet[3:7]"
   ]
  },
  {
   "cell_type": "code",
   "execution_count": null,
   "metadata": {},
   "outputs": [],
   "source": [
    "# the next four\n",
    "alphabet[7:11]"
   ]
  },
  {
   "cell_type": "code",
   "execution_count": null,
   "metadata": {},
   "outputs": [],
   "source": [
    "# the next five\n",
    "alphabet[11:16]"
   ]
  },
  {
   "cell_type": "code",
   "execution_count": null,
   "metadata": {},
   "outputs": [],
   "source": [
    "# everything but the first three and the last three\n",
    "alphabet[3:-3]"
   ]
  },
  {
   "cell_type": "code",
   "execution_count": null,
   "metadata": {},
   "outputs": [],
   "source": [
    "# @TODO: Slice Shakespeare's name so that you see only\n",
    "# the last two letters of his first name ('am') and the first two letters of his last name ('Sh')\n",
    "\n"
   ]
  },
  {
   "cell_type": "code",
   "execution_count": null,
   "metadata": {},
   "outputs": [],
   "source": [
    "# @TODO: Slice the middle of your own name in the same away as just above:\n",
    "\n"
   ]
  },
  {
   "cell_type": "code",
   "execution_count": null,
   "metadata": {},
   "outputs": [],
   "source": [
    "# @TODO: Slice away everything but the first and last letters of your name\n",
    "\n"
   ]
  },
  {
   "cell_type": "markdown",
   "metadata": {},
   "source": [
    "### Get the length of strings\n",
    "\n",
    "Use the built-in function `len` to get the length (character count) of a string."
   ]
  },
  {
   "cell_type": "code",
   "execution_count": 4,
   "metadata": {},
   "outputs": [
    {
     "data": {
      "text/plain": [
       "23"
      ]
     },
     "execution_count": 4,
     "metadata": {},
     "output_type": "execute_result"
    }
   ],
   "source": [
    "len('Is this tweet too long?')"
   ]
  },
  {
   "cell_type": "code",
   "execution_count": 5,
   "metadata": {},
   "outputs": [
    {
     "ename": "NameError",
     "evalue": "name 'alphabet' is not defined",
     "output_type": "error",
     "traceback": [
      "\u001b[0;31m---------------------------------------------------------------------------\u001b[0m",
      "\u001b[0;31mNameError\u001b[0m                                 Traceback (most recent call last)",
      "\u001b[0;32m/tmp/ipykernel_97/3778749029.py\u001b[0m in \u001b[0;36m<module>\u001b[0;34m\u001b[0m\n\u001b[0;32m----> 1\u001b[0;31m \u001b[0mlen\u001b[0m\u001b[0;34m(\u001b[0m\u001b[0malphabet\u001b[0m\u001b[0;34m)\u001b[0m\u001b[0;34m\u001b[0m\u001b[0;34m\u001b[0m\u001b[0m\n\u001b[0m",
      "\u001b[0;31mNameError\u001b[0m: name 'alphabet' is not defined"
     ]
    }
   ],
   "source": [
    "len(alphabet)"
   ]
  },
  {
   "cell_type": "code",
   "execution_count": null,
   "metadata": {},
   "outputs": [],
   "source": [
    "##\n",
    "# @TODO: Pare this string down to fit into a tweet (280 chars) \n",
    "#\n",
    "lorem = \"\"\"Lorem ipsum dolor sit amet, consectetur adipiscing elit, sed do eiusmod\n",
    "tempor incididunt ut labore et dolore magna aliqua. Ut enim ad minim\n",
    "veniam, quis nostrud exercitation ullamco laboris nisi ut aliquip ex ea\n",
    "commodo consequat. Duis aute irure dolor in reprehenderit in voluptate\n",
    "velit esse cillum dolore eu fugiat nulla pariatur. Excepteur sint\n",
    "occaecat cupidatat non proident, sunt in culpa qui officia deserunt\n",
    "mollit anim id est laborum.\"\"\"\n",
    "\n",
    "len(lorem)"
   ]
  },
  {
   "cell_type": "markdown",
   "metadata": {},
   "source": [
    "## String methods\n",
    "\n",
    "So far we've seen a few things strings can do. They can be 'added' to each other. They can be sliced."
   ]
  },
  {
   "cell_type": "markdown",
   "metadata": {},
   "source": [
    "But strings can do many more things using its **methods**.\n",
    "\n",
    "A method is something an object can do. If my dog is a Python object, things he might be able to do are 'sit', 'stay', 'walk'. Here's some pseudo-code:\n",
    "\n",
    "    my_dog.sit()\n",
    "    my_dog.stay()\n",
    "    my_dog.walk()\n",
    "\n",
    "In other words, a method is activated by this general formula:\n",
    "\n",
    "    object.method()\n",
    "\n",
    "For strings specifically, certain methods do very useful things."
   ]
  },
  {
   "cell_type": "markdown",
   "metadata": {},
   "source": [
    "### `str.upper(), str.lower(), str.title()`\n",
    "\n",
    "These three methods let you change the capitalization of the string you have."
   ]
  },
  {
   "cell_type": "code",
   "execution_count": null,
   "metadata": {},
   "outputs": [],
   "source": [
    "mixed_case = 'PyTHoN hackER'"
   ]
  },
  {
   "cell_type": "code",
   "execution_count": null,
   "metadata": {},
   "outputs": [],
   "source": [
    "mixed_case.upper()"
   ]
  },
  {
   "cell_type": "code",
   "execution_count": null,
   "metadata": {},
   "outputs": [],
   "source": [
    "mixed_case.lower()"
   ]
  },
  {
   "cell_type": "code",
   "execution_count": null,
   "metadata": {},
   "outputs": [],
   "source": [
    "mixed_case.title()"
   ]
  },
  {
   "cell_type": "code",
   "execution_count": null,
   "metadata": {},
   "outputs": [],
   "source": [
    "# @TODO: Recreate the following title page with its correct captialization using the variable names.\n",
    "\"\"\"\n",
    "The\n",
    "LIFE\n",
    "and\n",
    "Strange Surprising\n",
    "ADVENTURES\n",
    "of\n",
    "ROBINSON CRUSOE\n",
    "Of York, Mariner\n",
    "\"\"\"\n",
    "\n",
    "line1='the'\n",
    "line2='life'\n",
    "line3='AND'\n",
    "line4='strange surprising'\n",
    "line5='adventures'\n",
    "line6='OF'\n",
    "line7='robinson crusoe'\n",
    "line8='of york, mariner'\n",
    "\n",
    "print(line1.title())\n",
    "# .... Print the other lines using the appropriate string method"
   ]
  },
  {
   "cell_type": "code",
   "execution_count": null,
   "metadata": {},
   "outputs": [],
   "source": [
    "# Remember you can always check the help for a string method like this:\n",
    "#help(str.title)"
   ]
  },
  {
   "cell_type": "markdown",
   "metadata": {},
   "source": [
    "### `str.replace()`\n",
    "\n",
    "A lot of the time we need to replace something inside a string with something else.\n",
    "\n",
    "#### Fixed That For You #1"
   ]
  },
  {
   "cell_type": "code",
   "execution_count": null,
   "metadata": {},
   "outputs": [],
   "source": [
    "corporation = 'Dunkin Donuts'"
   ]
  },
  {
   "cell_type": "code",
   "execution_count": null,
   "metadata": {},
   "outputs": [],
   "source": [
    "corporation.replace('Dunkin','Unkind')"
   ]
  },
  {
   "cell_type": "code",
   "execution_count": null,
   "metadata": {},
   "outputs": [],
   "source": [
    "# This did not overwrite 'corporation'!\n",
    "\n",
    "corporation"
   ]
  },
  {
   "cell_type": "code",
   "execution_count": null,
   "metadata": {},
   "outputs": [],
   "source": [
    "# To do that, we need to re-assign corporation\n",
    "\n",
    "corporation = corporation.replace('Dunkin','Unkind')"
   ]
  },
  {
   "cell_type": "code",
   "execution_count": null,
   "metadata": {},
   "outputs": [],
   "source": [
    "corporation"
   ]
  },
  {
   "cell_type": "markdown",
   "metadata": {},
   "source": [
    "#### Fixed That For You #2"
   ]
  },
  {
   "cell_type": "code",
   "execution_count": null,
   "metadata": {},
   "outputs": [],
   "source": [
    "heteronormative = 'men like women, women like men'"
   ]
  },
  {
   "cell_type": "code",
   "execution_count": null,
   "metadata": {},
   "outputs": [],
   "source": [
    "heteronormative.replace('women','people')"
   ]
  },
  {
   "cell_type": "code",
   "execution_count": null,
   "metadata": {},
   "outputs": [],
   "source": [
    "heteronormative.replace('men','people')"
   ]
  },
  {
   "cell_type": "code",
   "execution_count": null,
   "metadata": {},
   "outputs": [],
   "source": [
    "heteronormative.replace('women','people').replace('men','people')"
   ]
  },
  {
   "cell_type": "code",
   "execution_count": null,
   "metadata": {},
   "outputs": [],
   "source": [
    "# This did not overwrite heteronormative!\n",
    "\n",
    "heteronormative"
   ]
  },
  {
   "cell_type": "code",
   "execution_count": null,
   "metadata": {},
   "outputs": [],
   "source": [
    "# We can overwrite one at a time\n",
    "\n",
    "heteronormative = heteronormative.replace('women','people')"
   ]
  },
  {
   "cell_type": "code",
   "execution_count": null,
   "metadata": {},
   "outputs": [],
   "source": [
    "heteronormative"
   ]
  },
  {
   "cell_type": "code",
   "execution_count": null,
   "metadata": {},
   "outputs": [],
   "source": [
    "heteronormative = heteronormative.replace('men','people')"
   ]
  },
  {
   "cell_type": "code",
   "execution_count": null,
   "metadata": {},
   "outputs": [],
   "source": [
    "heteronormative"
   ]
  },
  {
   "cell_type": "markdown",
   "metadata": {},
   "source": [
    "#### Fixed That For You #3"
   ]
  },
  {
   "cell_type": "code",
   "execution_count": null,
   "metadata": {},
   "outputs": [],
   "source": [
    "#@TODO: Rid this string of its gendered assumptions (use 'they', 'them', and 'person' as neutral pro/nouns).\n",
    "\n",
    "gendered = 'You saw your doctor? What did he say? And the nurse? What did she say?'\n",
    "\n"
   ]
  },
  {
   "cell_type": "markdown",
   "metadata": {},
   "source": [
    "### `str.strip()`\n",
    "\n",
    "Sometimes we need to clean strings up and remove the whitespace they have surrounding them."
   ]
  },
  {
   "cell_type": "code",
   "execution_count": null,
   "metadata": {},
   "outputs": [],
   "source": [
    "overpadded = \"\"\"\n",
    "\n",
    "\n",
    "                                  hi!\n",
    "\n",
    "\"\"\""
   ]
  },
  {
   "cell_type": "code",
   "execution_count": null,
   "metadata": {},
   "outputs": [],
   "source": [
    "print(overpadded)"
   ]
  },
  {
   "cell_type": "code",
   "execution_count": null,
   "metadata": {},
   "outputs": [],
   "source": [
    "overpadded"
   ]
  },
  {
   "cell_type": "code",
   "execution_count": null,
   "metadata": {},
   "outputs": [],
   "source": [
    "overpadded.strip()"
   ]
  },
  {
   "cell_type": "markdown",
   "metadata": {},
   "source": [
    "### `str.count()`\n",
    "\n",
    "How many strings are inside another string?"
   ]
  },
  {
   "cell_type": "code",
   "execution_count": 6,
   "metadata": {},
   "outputs": [],
   "source": [
    "rafaela = \"\"\"Rafaela Cortes spent the morning barefoot, sweeping both dead and\n",
    "living things from over and under beds, from behind doors and shutters,\n",
    "through archways, along the veranda—sweeping them all across the deep\n",
    "shadows and luminous sunlight carpeting the cool tile floors. Her\n",
    "slender arms worked the broom industriously through the air—already\n",
    "thickening with tepid heat—and along the floor, her feet following,\n",
    "printing their moisture in dark footprints over baked clay. Every\n",
    "morning, a small pile of assorted insects and tiny animals—moths and\n",
    "spiders, lizards and beetles—collected, their brittle bodies tossed in\n",
    "waves along the floor, a cloudy hush of sandy soil, cobwebs, and human\n",
    "hair. An iguana, a crab, and a mouse. And there was the scorpion,\n",
    "always dead—its fragile back broken in the middle. And the snake that\n",
    "slithered away at the urging of her broom—probably not poisonous, but\n",
    "one never knew. Every morning it was the same. Every morning, she swept\n",
    "this mound of dead and wiggling things to the door and off the side of\n",
    "the veranda and into the dark green undergrowth with the same flourish.\n",
    "Occasionally, there was more of one species or the other, but each\n",
    "somehow always made its way back into the house. The iguana, the crab,\n",
    "and the mouse, for example, were always there. Sometimes they were\n",
    "dead; sometimes they were alive. As for the scorpion, it was always\n",
    "dead, but the snake was always alive. On some days, it seemed to twirl\n",
    "before her broom communicating a kind of dance that seemed to send a\n",
    "visceral message up the broom to her fingertips. There was no\n",
    "explanation for any of it. It made no difference if she closed the\n",
    "doors and shutters at the first sign of dusk or if she left the house\n",
    "unoccupied and tightly shut for several days. Every morning when the\n",
    "house was thrown open to the sunlight, she knew that she and the boy\n",
    "had not slept alone that night. Hummingbirds and parakeets fluttered\n",
    "across the rooms, stirring the languid humidity settled by the night,\n",
    "frantically searching for escape through the open lace curtains, while\n",
    "crawling lives hid beneath furniture or presented itself lifeless at\n",
    "her feet.\"\"\""
   ]
  },
  {
   "cell_type": "code",
   "execution_count": 7,
   "metadata": {},
   "outputs": [
    {
     "data": {
      "text/plain": [
       "2"
      ]
     },
     "execution_count": 7,
     "metadata": {},
     "output_type": "execute_result"
    }
   ],
   "source": [
    "# How many crabs?\n",
    "rafaela.count('crab')"
   ]
  },
  {
   "cell_type": "code",
   "execution_count": 8,
   "metadata": {},
   "outputs": [
    {
     "name": "stdout",
     "output_type": "stream",
     "text": [
      "2 2 2 1\n"
     ]
    }
   ],
   "source": [
    "# How many of these animals respectively?\n",
    "print(rafaela.count('iguana'), rafaela.count('scorpion'),rafaela.count('snake'),rafaela.count('parakeet'))"
   ]
  },
  {
   "cell_type": "code",
   "execution_count": 9,
   "metadata": {},
   "outputs": [
    {
     "data": {
      "text/plain": [
       "1"
      ]
     },
     "execution_count": 9,
     "metadata": {},
     "output_type": "execute_result"
    }
   ],
   "source": [
    "# How many hummingbirds?\n",
    "rafaela.count('Hummingbird')"
   ]
  },
  {
   "cell_type": "code",
   "execution_count": 22,
   "metadata": {},
   "outputs": [],
   "source": [
    "# How come!?\n",
    "# Look: it's capitalized in text. \"Hummingbirds\"!\n",
    "# So...\n",
    "\n",
    "# @TODO how do we fix this?\n",
    "\n"
   ]
  },
  {
   "cell_type": "code",
   "execution_count": 23,
   "metadata": {},
   "outputs": [
    {
     "data": {
      "text/plain": [
       "30"
      ]
     },
     "execution_count": 23,
     "metadata": {},
     "output_type": "execute_result"
    }
   ],
   "source": [
    "##\n",
    "# Getting some stats\n",
    "##\n",
    "\n",
    "num_commas = rafaela.count(',')\n",
    "num_commas"
   ]
  },
  {
   "cell_type": "code",
   "execution_count": 24,
   "metadata": {},
   "outputs": [
    {
     "data": {
      "text/plain": [
       "17"
      ]
     },
     "execution_count": 24,
     "metadata": {},
     "output_type": "execute_result"
    }
   ],
   "source": [
    "num_sents = rafaela.count('.') + rafaela.count('?')\n",
    "num_sents"
   ]
  },
  {
   "cell_type": "code",
   "execution_count": 25,
   "metadata": {},
   "outputs": [
    {
     "data": {
      "text/plain": [
       "330"
      ]
     },
     "execution_count": 25,
     "metadata": {},
     "output_type": "execute_result"
    }
   ],
   "source": [
    "num_words = rafaela.strip().count(' ')\n",
    "num_words"
   ]
  },
  {
   "cell_type": "code",
   "execution_count": 26,
   "metadata": {},
   "outputs": [
    {
     "data": {
      "text/plain": [
       "19.41176470588235"
      ]
     },
     "execution_count": 26,
     "metadata": {},
     "output_type": "execute_result"
    }
   ],
   "source": [
    "# Words per sentence\n",
    "wps = num_words/num_sents\n",
    "wps"
   ]
  },
  {
   "cell_type": "code",
   "execution_count": 27,
   "metadata": {},
   "outputs": [
    {
     "data": {
      "text/plain": [
       "1.7647058823529411"
      ]
     },
     "execution_count": 27,
     "metadata": {},
     "output_type": "execute_result"
    }
   ],
   "source": [
    "# Commas per sentence\n",
    "cps = num_commas/num_sents\n",
    "cps"
   ]
  },
  {
   "cell_type": "code",
   "execution_count": 28,
   "metadata": {},
   "outputs": [],
   "source": [
    "bobby = \"\"\"\n",
    "Check it out, ése. You know this story? Yeah, over at Sanitary Supply\n",
    "they always tell it. This dude drives up, drives up to Sanitary. Makes\n",
    "a pickup like always. You know. Paper towels. Rags. Mop handles. Gallon\n",
    "of Windex. Stuff like that. Drives up in a Toyota pickup. Black shiny\n",
    "deal, all new, big pinche wheels. Very nice. Yeah. Asian dude. Kinda\n",
    "skinny. Short, yeah. But so what? Dark glasses. Cigarette in the mouth.\n",
    "He’s getting out the truck, see. In the parking lot. Big tall dude\n",
    "comes by with a gun. Yeah, a gun. Puts it to his head and says, GIMME\n",
    "THE KEYS! It’s a jacker. Asian dude don’t lose no time, man. No time.\n",
    "Not a doubt. Rams the door closed. wham! Just like that. Slams the door\n",
    "on the jacker’s hand. On the jacker’s gun! Smashes the gun! Smashes the\n",
    "hand. Gun ain’t worth shit. Hand’s worth even less. Jacker loses it\n",
    "bad. He’s crying. Screaming. It’s not over. Asian dude swings the door\n",
    "open. Attacks the jacker. Pushes him up to the wall of Sanitary and\n",
    "beats the shit out. Dude don’t come up to the jacker’s nose. But it\n",
    "don’t matter. Got every trick in the books. Bruce Lee moves. Kick. VAP!\n",
    "WHOP! Damn. Don’t mess with this man. By now Sanitary’s called the\n",
    "police. Crowd’s seen it all. Jacker’s a mess. Blood everywhere. Never\n",
    "seen so much blood. But not a drop on the Asian. Not a drop. Never took\n",
    "off his shades. Never even stopped smoking. Turns over the jacker’s\n",
    "remains to the police. Don’t say nothing. That’s it. Goes into\n",
    "Sanitary. Picks up the mop handles, Windex, rags. Gets in the pickup.\n",
    "He’s gone. That’s it. That’s it.\n",
    "\"\"\""
   ]
  },
  {
   "cell_type": "code",
   "execution_count": 29,
   "metadata": {},
   "outputs": [
    {
     "data": {
      "text/plain": [
       "73"
      ]
     },
     "execution_count": 29,
     "metadata": {},
     "output_type": "execute_result"
    }
   ],
   "source": [
    "num_sents_bobby = bobby.count('.') + bobby.count('!') + bobby.count('?')\n",
    "num_sents_bobby"
   ]
  },
  {
   "cell_type": "code",
   "execution_count": 30,
   "metadata": {},
   "outputs": [
    {
     "data": {
      "text/plain": [
       "12"
      ]
     },
     "execution_count": 30,
     "metadata": {},
     "output_type": "execute_result"
    }
   ],
   "source": [
    "num_commas_bobby = bobby.count(',')\n",
    "num_commas_bobby"
   ]
  },
  {
   "cell_type": "code",
   "execution_count": 31,
   "metadata": {},
   "outputs": [
    {
     "data": {
      "text/plain": [
       "265"
      ]
     },
     "execution_count": 31,
     "metadata": {},
     "output_type": "execute_result"
    }
   ],
   "source": [
    "num_words_bobby = bobby.strip().count(' ')\n",
    "num_words_bobby"
   ]
  },
  {
   "cell_type": "code",
   "execution_count": 32,
   "metadata": {},
   "outputs": [
    {
     "data": {
      "text/plain": [
       "3.6301369863013697"
      ]
     },
     "execution_count": 32,
     "metadata": {},
     "output_type": "execute_result"
    }
   ],
   "source": [
    "# Words per sent\n",
    "wps_bobby = num_words_bobby / num_sents_bobby\n",
    "wps_bobby"
   ]
  },
  {
   "cell_type": "code",
   "execution_count": 33,
   "metadata": {},
   "outputs": [
    {
     "data": {
      "text/plain": [
       "0.1643835616438356"
      ]
     },
     "execution_count": 33,
     "metadata": {},
     "output_type": "execute_result"
    }
   ],
   "source": [
    "# Commas per word\n",
    "cps_bobby = num_commas_bobby / num_sents_bobby\n",
    "cps_bobby"
   ]
  },
  {
   "cell_type": "code",
   "execution_count": 34,
   "metadata": {},
   "outputs": [],
   "source": [
    "##\n",
    "# Compare Rafaela and Bobby:\n",
    "##"
   ]
  },
  {
   "cell_type": "code",
   "execution_count": 35,
   "metadata": {},
   "outputs": [
    {
     "name": "stdout",
     "output_type": "stream",
     "text": [
      "\t Rafaela (ch1 pr1) \t Bobby (ch2 pr1)\n",
      "WPS \t 19.41176470588235 \t 3.6301369863013697\n",
      "CPS \t 1.7647058823529411 \t 0.1643835616438356\n"
     ]
    }
   ],
   "source": [
    "print ('\\t','Rafaela (ch1 pr1)','\\t','Bobby (ch2 pr1)')\n",
    "print('WPS','\\t',wps,'\\t',wps_bobby)\n",
    "print('CPS','\\t',cps,'\\t',cps_bobby)"
   ]
  },
  {
   "cell_type": "markdown",
   "metadata": {},
   "source": [
    "### `str.index(substr)`\n",
    "\n",
    "Find the index of a substring in a string. Useful for Keywords in Context (KWIC).\n",
    "\n",
    "First let's start small."
   ]
  },
  {
   "cell_type": "code",
   "execution_count": 38,
   "metadata": {},
   "outputs": [
    {
     "data": {
      "text/plain": [
       "9"
      ]
     },
     "execution_count": 38,
     "metadata": {},
     "output_type": "execute_result"
    }
   ],
   "source": [
    "alphabet.index('j')"
   ]
  },
  {
   "cell_type": "code",
   "execution_count": 39,
   "metadata": {},
   "outputs": [
    {
     "data": {
      "text/plain": [
       "'j'"
      ]
     },
     "execution_count": 39,
     "metadata": {},
     "output_type": "execute_result"
    }
   ],
   "source": [
    "alphabet[9]"
   ]
  },
  {
   "cell_type": "code",
   "execution_count": 40,
   "metadata": {},
   "outputs": [
    {
     "data": {
      "text/plain": [
       "'hijkl'"
      ]
     },
     "execution_count": 40,
     "metadata": {},
     "output_type": "execute_result"
    }
   ],
   "source": [
    "alphabet[9-2:9+3]"
   ]
  },
  {
   "cell_type": "code",
   "execution_count": 41,
   "metadata": {},
   "outputs": [
    {
     "data": {
      "text/plain": [
       "'hijkl'"
      ]
     },
     "execution_count": 41,
     "metadata": {},
     "output_type": "execute_result"
    }
   ],
   "source": [
    "# let's abstract from this\n",
    "\n",
    "index = alphabet.index('j')\n",
    "alphabet[index-2:index+3]"
   ]
  },
  {
   "cell_type": "code",
   "execution_count": 42,
   "metadata": {},
   "outputs": [
    {
     "data": {
      "text/plain": [
       "'hijkl'"
      ]
     },
     "execution_count": 42,
     "metadata": {},
     "output_type": "execute_result"
    }
   ],
   "source": [
    "# let's abstract one more time\n",
    "\n",
    "index = alphabet.index('j')\n",
    "radius = 2\n",
    "alphabet[index-radius:index+radius+1]"
   ]
  },
  {
   "cell_type": "markdown",
   "metadata": {},
   "source": [
    "#### Key Words In Context (KWIC)"
   ]
  },
  {
   "cell_type": "code",
   "execution_count": 43,
   "metadata": {},
   "outputs": [
    {
     "data": {
      "text/plain": [
       "706"
      ]
     },
     "execution_count": 43,
     "metadata": {},
     "output_type": "execute_result"
    }
   ],
   "source": [
    "index_crab = rafaela.index('crab')\n",
    "index_crab"
   ]
  },
  {
   "cell_type": "code",
   "execution_count": 44,
   "metadata": {},
   "outputs": [
    {
     "name": "stdout",
     "output_type": "stream",
     "text": [
      "ted insects and tiny animals—moths and\n",
      "spiders, lizards and beetles—collected, their brittle bodies tossed in\n",
      "waves along the floor, a cloudy hush of sandy soil, cobwebs, and human\n",
      "hair. An iguana, a crab, and a mouse. And there was the scorpion,\n",
      "always dead—its fragile back broken in the middle. And the snake that\n",
      "slithered away at the urging of her broom—probably not poisonous, but\n",
      "one never knew\n"
     ]
    }
   ],
   "source": [
    "radius_r = 200\n",
    "\n",
    "print(rafaela[index_crab-radius_r:index_crab+radius_r+1])"
   ]
  },
  {
   "cell_type": "code",
   "execution_count": 45,
   "metadata": {},
   "outputs": [
    {
     "name": "stdout",
     "output_type": "stream",
     "text": [
      "Help on built-in function index:\n",
      "\n",
      "index(...) method of builtins.str instance\n",
      "    S.index(sub[, start[, end]]) -> int\n",
      "    \n",
      "    Return the lowest index in S where substring sub is found, \n",
      "    such that sub is contained within S[start:end].  Optional\n",
      "    arguments start and end are interpreted as in slice notation.\n",
      "    \n",
      "    Raises ValueError when the substring is not found.\n",
      "\n"
     ]
    }
   ],
   "source": [
    "help(rafaela.index)"
   ]
  },
  {
   "cell_type": "code",
   "execution_count": 46,
   "metadata": {},
   "outputs": [
    {
     "data": {
      "text/plain": [
       "1240"
      ]
     },
     "execution_count": 46,
     "metadata": {},
     "output_type": "execute_result"
    }
   ],
   "source": [
    "index_crab2=rafaela.index('crab',index_crab+1)\n",
    "index_crab2"
   ]
  },
  {
   "cell_type": "code",
   "execution_count": 47,
   "metadata": {},
   "outputs": [
    {
     "name": "stdout",
     "output_type": "stream",
     "text": [
      "veranda and into the dark green undergrowth with the same flourish.\n",
      "Occasionally, there was more of one species or the other, but each\n",
      "somehow always made its way back into the house. The iguana, the crab,\n",
      "and the mouse, for example, were always there. Sometimes they were\n",
      "dead; sometimes they were alive. As for the scorpion, it was always\n",
      "dead, but the snake was always alive. On some days, it seeme\n"
     ]
    }
   ],
   "source": [
    "print(rafaela[index_crab2-radius_r:index_crab2+radius_r+1])"
   ]
  },
  {
   "cell_type": "code",
   "execution_count": 48,
   "metadata": {},
   "outputs": [],
   "source": [
    "##\n",
    "# @TODO: Find the first and second instances of 'Windex' in bobby's paragraph\n",
    "#\n",
    "\n"
   ]
  },
  {
   "cell_type": "markdown",
   "metadata": {},
   "source": [
    "## Functions\n",
    "\n",
    "We've been repeating ourselves a lot. Let's write what we've written over as a 'function', a little algorithm or recipe which requires certain input and will deliver certain output.\n",
    "\n",
    "The basic format is:\n",
    "\n",
    "```python\n",
    "def function_name(input):\n",
    "    # do things...\n",
    "    return output\n",
    "```\n",
    "\n",
    "Note the **indentation**: throughout Python, indentaiton means \"inside of\" or \"in this context.\""
   ]
  },
  {
   "cell_type": "markdown",
   "metadata": {},
   "source": [
    "### Demo functions"
   ]
  },
  {
   "cell_type": "code",
   "execution_count": 49,
   "metadata": {},
   "outputs": [
    {
     "name": "stdout",
     "output_type": "stream",
     "text": [
      "hello?\n"
     ]
    }
   ],
   "source": [
    "def shout(string):\n",
    "    loud_string = string.upper() + '!!!'\n",
    "    print(loud_string)    # this will not print now, because it is 'inside' the function\n",
    "    \n",
    "print('hello?')           # this will print now, because it is 'outside' the function"
   ]
  },
  {
   "cell_type": "code",
   "execution_count": 50,
   "metadata": {},
   "outputs": [
    {
     "name": "stdout",
     "output_type": "stream",
     "text": [
      "I'M LISTENING!!!!\n"
     ]
    }
   ],
   "source": [
    "shout(\"I'm listening!\")"
   ]
  },
  {
   "cell_type": "code",
   "execution_count": 51,
   "metadata": {},
   "outputs": [],
   "source": [
    "def hours2weeks(num_hours):\n",
    "    num_days=num_hours / 24\n",
    "    num_weeks = num_days / 7\n",
    "    return num_weeks"
   ]
  },
  {
   "cell_type": "code",
   "execution_count": 52,
   "metadata": {},
   "outputs": [
    {
     "data": {
      "text/plain": [
       "59.523809523809526"
      ]
     },
     "execution_count": 52,
     "metadata": {},
     "output_type": "execute_result"
    }
   ],
   "source": [
    "hours2weeks(10000)"
   ]
  },
  {
   "cell_type": "code",
   "execution_count": 53,
   "metadata": {},
   "outputs": [],
   "source": [
    "def hours2workweeks(num_hours,num_working_hours=8,num_working_days=5):\n",
    "    num_workdays = num_hours / num_working_hours\n",
    "    num_workweeks = num_workdays / num_working_days\n",
    "    return num_workweeks"
   ]
  },
  {
   "cell_type": "code",
   "execution_count": 54,
   "metadata": {},
   "outputs": [
    {
     "data": {
      "text/plain": [
       "250.0"
      ]
     },
     "execution_count": 54,
     "metadata": {},
     "output_type": "execute_result"
    }
   ],
   "source": [
    "hours2workweeks(10000)"
   ]
  },
  {
   "cell_type": "markdown",
   "metadata": {},
   "source": [
    "### Functions using string slicing"
   ]
  },
  {
   "cell_type": "code",
   "execution_count": 55,
   "metadata": {},
   "outputs": [],
   "source": [
    "def first_n_letters(string,n):\n",
    "    letters = string[:n]\n",
    "    return letters"
   ]
  },
  {
   "cell_type": "code",
   "execution_count": 56,
   "metadata": {},
   "outputs": [
    {
     "ename": "NameError",
     "evalue": "name 'bardname' is not defined",
     "output_type": "error",
     "traceback": [
      "\u001b[0;31m---------------------------------------------------------------------------\u001b[0m",
      "\u001b[0;31mNameError\u001b[0m                                 Traceback (most recent call last)",
      "\u001b[0;32m/tmp/ipykernel_97/3206587084.py\u001b[0m in \u001b[0;36m<module>\u001b[0;34m\u001b[0m\n\u001b[0;32m----> 1\u001b[0;31m \u001b[0mfirst_n_letters\u001b[0m\u001b[0;34m(\u001b[0m\u001b[0mbardname\u001b[0m\u001b[0;34m,\u001b[0m\u001b[0;36m10\u001b[0m\u001b[0;34m)\u001b[0m\u001b[0;34m\u001b[0m\u001b[0;34m\u001b[0m\u001b[0m\n\u001b[0m",
      "\u001b[0;31mNameError\u001b[0m: name 'bardname' is not defined"
     ]
    }
   ],
   "source": [
    "first_n_letters(bardname,10)"
   ]
  },
  {
   "cell_type": "code",
   "execution_count": 57,
   "metadata": {},
   "outputs": [],
   "source": [
    "##\n",
    "# @TODO: Write a function that returns your Star Wars name!\n",
    "#\n",
    "# First name: \n",
    "# First 3 letters of your last name\n",
    "# + First 2 letters of your first name\n",
    "#\n",
    "# Last name:\n",
    "# First 2 letters of your mother's maiden name\n",
    "# + First 3 letters of the town you were born in\n",
    "\n",
    "def star_wars_name_gen(first_name, last_name, maiden_name, town_name):\n",
    "    \n",
    "    star_wars_first_name = ''\n",
    "    \n",
    "    star_wars_last_name = ''\n",
    "    \n",
    "    return "
   ]
  },
  {
   "cell_type": "code",
   "execution_count": 58,
   "metadata": {},
   "outputs": [],
   "source": [
    "##\n",
    "# @TODO: Execute the function\n",
    "#\n",
    "# star_wars_name_gen(...)\n",
    "\n"
   ]
  },
  {
   "cell_type": "markdown",
   "metadata": {},
   "source": [
    "### Functions using `str.count()`"
   ]
  },
  {
   "cell_type": "code",
   "execution_count": 59,
   "metadata": {},
   "outputs": [],
   "source": [
    "def get_num_sents(string):\n",
    "    num_sents = string.count('.') + string.count('?') + string.count('!')\n",
    "    return num_sents"
   ]
  },
  {
   "cell_type": "code",
   "execution_count": 60,
   "metadata": {},
   "outputs": [
    {
     "data": {
      "text/plain": [
       "17"
      ]
     },
     "execution_count": 60,
     "metadata": {},
     "output_type": "execute_result"
    }
   ],
   "source": [
    "get_num_sents(rafaela)"
   ]
  },
  {
   "cell_type": "code",
   "execution_count": 61,
   "metadata": {},
   "outputs": [
    {
     "data": {
      "text/plain": [
       "73"
      ]
     },
     "execution_count": 61,
     "metadata": {},
     "output_type": "execute_result"
    }
   ],
   "source": [
    "get_num_sents(bobby)"
   ]
  },
  {
   "cell_type": "code",
   "execution_count": 62,
   "metadata": {},
   "outputs": [],
   "source": [
    "def get_num_words(string):\n",
    "    # @TODO: Is this right?\n",
    "    return string.count(' ')"
   ]
  },
  {
   "cell_type": "code",
   "execution_count": 63,
   "metadata": {},
   "outputs": [
    {
     "data": {
      "text/plain": [
       "330"
      ]
     },
     "execution_count": 63,
     "metadata": {},
     "output_type": "execute_result"
    }
   ],
   "source": [
    "get_num_words(rafaela)"
   ]
  },
  {
   "cell_type": "code",
   "execution_count": 64,
   "metadata": {},
   "outputs": [
    {
     "data": {
      "text/plain": [
       "265"
      ]
     },
     "execution_count": 64,
     "metadata": {},
     "output_type": "execute_result"
    }
   ],
   "source": [
    "get_num_words(bobby)"
   ]
  },
  {
   "cell_type": "code",
   "execution_count": 65,
   "metadata": {},
   "outputs": [],
   "source": [
    "def get_words_per_sent(string):\n",
    "    num_sents = get_num_sents(string)\n",
    "    num_words = get_num_words(string)\n",
    "    return num_words / num_sents"
   ]
  },
  {
   "cell_type": "code",
   "execution_count": 66,
   "metadata": {},
   "outputs": [
    {
     "data": {
      "text/plain": [
       "19.41176470588235"
      ]
     },
     "execution_count": 66,
     "metadata": {},
     "output_type": "execute_result"
    }
   ],
   "source": [
    "get_words_per_sent(rafaela)"
   ]
  },
  {
   "cell_type": "code",
   "execution_count": 67,
   "metadata": {},
   "outputs": [
    {
     "data": {
      "text/plain": [
       "3.6301369863013697"
      ]
     },
     "execution_count": 67,
     "metadata": {},
     "output_type": "execute_result"
    }
   ],
   "source": [
    "get_words_per_sent(bobby)"
   ]
  },
  {
   "cell_type": "code",
   "execution_count": 68,
   "metadata": {},
   "outputs": [],
   "source": [
    "##\n",
    "# @TODO: Write your own function counting something interesting about a text\n",
    "#\n",
    "# e.g. count the animals in a text? count the exclamation marks?\n",
    "# return as raw count or as a ratio of num words (or some other stat)\n",
    "#\n",
    "def my_interesting_calculation(string):\n",
    "    return output"
   ]
  },
  {
   "cell_type": "markdown",
   "metadata": {},
   "source": [
    "### Functions using `str.index()`"
   ]
  },
  {
   "cell_type": "code",
   "execution_count": 69,
   "metadata": {},
   "outputs": [],
   "source": [
    "# let's abstract one last time!\n",
    "def kwic(string,substring,offset=0,radius=100):\n",
    "    index = string.index(substring,offset+1)\n",
    "    print(string[index-radius:index+radius+1])\n",
    "    return index"
   ]
  },
  {
   "cell_type": "code",
   "execution_count": 70,
   "metadata": {},
   "outputs": [
    {
     "name": "stdout",
     "output_type": "stream",
     "text": [
      "es up to Sanitary. Makes\n",
      "a pickup like always. You know. Paper towels. Rags. Mop handles. Gallon\n",
      "of Windex. Stuff like that. Drives up in a Toyota pickup. Black shiny\n",
      "deal, all new, big pinche wheels. \n"
     ]
    },
    {
     "data": {
      "text/plain": [
       "217"
      ]
     },
     "execution_count": 70,
     "metadata": {},
     "output_type": "execute_result"
    }
   ],
   "source": [
    "kwic(bobby,'Windex')"
   ]
  },
  {
   "cell_type": "code",
   "execution_count": 71,
   "metadata": {},
   "outputs": [
    {
     "name": "stdout",
     "output_type": "stream",
     "text": [
      "\n",
      "remains to the police. Don’t say nothing. That’s it. Goes into\n",
      "Sanitary. Picks up the mop handles, Windex, rags. Gets in the pickup.\n",
      "He’s gone. That’s it. That’s it.\n",
      "\n"
     ]
    },
    {
     "data": {
      "text/plain": [
       "1499"
      ]
     },
     "execution_count": 71,
     "metadata": {},
     "output_type": "execute_result"
    }
   ],
   "source": [
    "kwic(bobby,'Windex',217)"
   ]
  },
  {
   "cell_type": "code",
   "execution_count": 72,
   "metadata": {},
   "outputs": [
    {
     "name": "stdout",
     "output_type": "stream",
     "text": [
      "An iguana, a crab, and a mouse. And there was the scorpion,\n",
      "always dead—its fragile back broken in th\n"
     ]
    }
   ],
   "source": [
    "index_first_match_r = kwic(rafaela,'scorpion',radius=50)"
   ]
  },
  {
   "cell_type": "code",
   "execution_count": 73,
   "metadata": {},
   "outputs": [
    {
     "name": "stdout",
     "output_type": "stream",
     "text": [
      " were\n",
      "dead; sometimes they were alive. As for the scorpion, it was always\n",
      "dead, but the snake was alw\n"
     ]
    }
   ],
   "source": [
    "index_second_match_r = kwic(rafaela,'scorpion',index_first_match_r,radius=50)"
   ]
  },
  {
   "cell_type": "code",
   "execution_count": 74,
   "metadata": {},
   "outputs": [],
   "source": [
    "## \n",
    "# @TODO: Find the third instance of 'dead' in Rafaela's first paragraph\n",
    "#\n",
    "#"
   ]
  },
  {
   "cell_type": "markdown",
   "metadata": {},
   "source": [
    "## Files\n",
    "\n",
    "We've been working a lot with strings. But where have these strings come from? So far they've just been manually entered, whether by me, you, or from a copy/paste of a text.\n",
    "\n",
    "Instead of manual entry, we can automatically fill a string with the contents of a text file."
   ]
  },
  {
   "cell_type": "markdown",
   "metadata": {},
   "source": [
    "### Files are just big strings"
   ]
  },
  {
   "cell_type": "markdown",
   "metadata": {},
   "source": [
    "To open a file, we use a specific syntax:\n",
    "\n",
    "```python\n",
    "with open('filename.txt') as file:\n",
    "    string = file.read()\n",
    "```\n",
    "\n",
    "This means: open filename.txt, and while it's open, read out its contents to a variable called `string` (then you can close the file, with the contents still saved in `string`). \n",
    "\n",
    "As an analogy, imagine this process:\n",
    "\n",
    "```python\n",
    "with open(the_refrigerator) as open_fridge:\n",
    "    filled_glass = open_fridge.pour_oj()\n",
    "```\n",
    "Unindented now, the fridge door is closed. But we still have our `filled_glass` of OJ..."
   ]
  },
  {
   "cell_type": "code",
   "execution_count": 75,
   "metadata": {},
   "outputs": [],
   "source": [
    "# Load the opening letters from Frankenstein by Mary Shelley\n",
    "\n",
    "import urllib.request\n",
    "\n",
    "with urllib.request.urlopen(\"https://raw.githubusercontent.com/rwilliamsparis/AUPCL1099/main/corpora/FrankensteinLetters.txt\") as f:\n",
    "    frank_text=f.read().decode()\n"
   ]
  },
  {
   "cell_type": "code",
   "execution_count": 2,
   "metadata": {},
   "outputs": [
    {
     "name": "stdout",
     "output_type": "stream",
     "text": [
      "\n",
      "\n",
      "\n",
      "\n",
      "LETTER I.\n",
      "\n",
      "\n",
      "_To Mrs. Saville, England._\n",
      "\n",
      "St. Petersburgh, Dec. 11th, 17--.\n",
      "\n",
      "You will rejoice to hear that no disaster has accompanied the\n",
      "commencement of an enterprise which you have regarded with such evil\n",
      "forebodings. I arrived here yesterday; and my first task is to assure my\n",
      "dear sister of my welfare, and increasing confidence in the success of\n",
      "my undertaking.\n",
      "\n",
      "I am already far north of London; and as I walk in the streets of\n",
      "Petersburgh, I feel a cold northern breeze play upon my cheeks, which\n",
      "braces my nerves, and fills me with delight. Do you understand this\n",
      "feeling? This breeze, which has travelled from the regions towards which\n",
      "I am advancing, gives me a foretaste of those icy climes. Inspirited by\n",
      "this wind of promise, my day dreams become more fervent and vivid. I try\n",
      "in vain to be persuaded that the pole is the seat of frost and\n",
      "desolation; it ever presents itself to my imagination as the region of\n",
      "beauty and delight. There, Margaret, the sun is for ever visible; its\n",
      "broad disk just skirting the horizon, and diffusing a perpetual\n",
      "splendour. There--for with your leave, my sister, I will put some trust\n",
      "in preceding navigators--there snow and frost are banished; and, sailing\n",
      "over a calm sea, we may be wafted to a land surpassing in wonders and in\n",
      "beauty every region hitherto discovered on the habitable globe. Its\n",
      "productions and features may be without example, as the phenomena of\n",
      "the heavenly bodies undoubtedly are in those undiscovered solitudes.\n",
      "What may not be expected in a country of eternal light? I may there\n",
      "discover the wondrous power which attracts the needle; and may regulate\n",
      "a thousand celestial observations, that require only this voyage to\n",
      "render their seeming eccentricities consistent for ever. I shall satiate\n",
      "my ardent curiosity with the sight of a part of the world never before\n",
      "visited, and may tread a land never before imprinted by the foot of man.\n",
      "These are my enticements, and they are sufficient to conquer all fear of\n",
      "danger or death,\n"
     ]
    }
   ],
   "source": [
    "print(frank_text[:2000])"
   ]
  },
  {
   "cell_type": "code",
   "execution_count": 76,
   "metadata": {},
   "outputs": [
    {
     "data": {
      "text/plain": [
       "20.007905138339922"
      ]
     },
     "execution_count": 76,
     "metadata": {},
     "output_type": "execute_result"
    }
   ],
   "source": [
    "get_words_per_sent(frank_text)"
   ]
  },
  {
   "cell_type": "code",
   "execution_count": 77,
   "metadata": {},
   "outputs": [],
   "source": [
    "# Let's open Cat Person by Kristen Roupenian\n",
    "\n",
    "with urllib.request.urlopen(\"https://raw.githubusercontent.com/rwilliamsparis/AUPCL1099/main/corpora/Cat_Person.txt\") as c:\n",
    "    cat_text=c.read().decode()"
   ]
  },
  {
   "cell_type": "code",
   "execution_count": 65,
   "metadata": {
    "scrolled": true
   },
   "outputs": [
    {
     "name": "stdout",
     "output_type": "stream",
     "text": [
      "Margot met Robert on a Wednesday night toward the end of her fall semester. She was working behind the concession stand at the artsy movie theatre downtown when he came in and bought a large popcorn and a box of Red Vines.\n",
      "\n",
      "“That’s an . . . unusual choice,” she said. “I don’t think I’ve ever actually sold a box of Red Vines before.”\n",
      "\n",
      "Flirting with her customers was a habit she’d picked up back when she worked as a barista, and it helped with tips. She didn’t earn tips at the movie theatre, but the job was boring otherwise, and she did think that Robert was cute. Not so cute that she would have, say, gone up to him at a party, but cute enough that she could have drummed up an imaginary crush on him if he’d sat across from her during a dull class—though she was pretty sure that he was out of college, in his mid-twenties at least. He was tall, which she liked, and she could see the edge of a tattoo peeking out from beneath the rolled-up sleeve of his shirt. But he was on the heavy side, his beard was a little too long, and his shoulders slumped forward slightly, as though he were protecting something.\n",
      "\n",
      "Robert did not pick up on her flirtation. Or, if he did, he showed it only by stepping back, as though to make her lean toward him, try a little harder. “Well,” he said. “O.K., then.” He pocketed his change.\n",
      "\n",
      "But the next week he came into the movie theatre again, and bought another box of Red Vines. “You’re getting better at your job,” he told her. “You managed not to insult me this time.”\n",
      "\n",
      "She shrugged. “I’m up for a promotion, so,” she said.\n",
      "\n",
      "After the movie, he came back to her. “Concession-stand girl, give me your phone number,” he said, and, surprising herself, she did.\n",
      "\n",
      "From that small exchange about Red Vines, over the next several weeks they built up an elaborate scaffolding of jokes via text, riffs that unfolded and shifted so quickly that she sometimes had a hard time keeping up. He was very clever, and she found that she had to work to impress him. Soon she n\n"
     ]
    }
   ],
   "source": [
    "# Print the first 2000 characters\n",
    "\n",
    "print(cat_text[:2000])"
   ]
  },
  {
   "cell_type": "code",
   "execution_count": 80,
   "metadata": {},
   "outputs": [],
   "source": [
    "# Load the opening four chapters of Dracula by Bram Stoker\n",
    "\n",
    "\n",
    "with urllib.request.urlopen(\"https://raw.githubusercontent.com/rwilliamsparis/AUPCL1099/main/corpora/Dracula_Chapters_1_to_4.txt\") as d:\n",
    "    drac_text=d.read().decode()"
   ]
  },
  {
   "cell_type": "code",
   "execution_count": 81,
   "metadata": {},
   "outputs": [
    {
     "name": "stdout",
     "output_type": "stream",
     "text": [
      "CHAPTER I\n",
      "\n",
      "JONATHAN HARKER'S JOURNAL\n",
      "\n",
      "(_Kept in shorthand._)\n",
      "\n",
      "\n",
      "_3 May. Bistritz._--Left Munich at 8:35 P. M., on 1st May, arriving at\n",
      "Vienna early next morning; should have arrived at 6:46, but train was an\n",
      "hour late. Buda-Pesth seems a wonderful place, from the glimpse which I\n",
      "got of it from the train and the little I could walk through the\n",
      "streets. I feared to go very far from the station, as we had arrived\n",
      "late and would start as near the correct time as possible. The\n",
      "impression I had was that we were leaving the West and entering the\n",
      "East; the most western of splendid bridges over the Danube, which is\n",
      "here of noble width and depth, took us among the traditions of Turkish\n",
      "rule.\n",
      "\n",
      "We left in pretty good time, and came after nightfall to Klausenburgh.\n",
      "Here I stopped for the night at the Hotel Royale. I had for dinner, or\n",
      "rather supper, a chicken done up some way with red pepper, which was\n",
      "very good but thirsty. (_Mem._, get recipe for Mina.) I asked the\n",
      "waiter, and he said it was called \"paprika hendl,\" and that, as it was a\n",
      "national dish, I should be able to get it anywhere along the\n",
      "Carpathians. I found my smattering of German very useful here; indeed, I\n",
      "don't know how I should be able to get on without it.\n",
      "\n",
      "Having had some time at my disposal when in London, I had visited the\n",
      "British Museum, and made search among the books and maps in the library\n",
      "regarding Transylvania; it had struck me that some foreknowledge of the\n",
      "country could hardly fail to have some importance in dealing with a\n",
      "nobleman of that country. I find that the district he named is in the\n",
      "extreme east of the country, just on the borders of three states,\n",
      "Transylvania, Moldavia and Bukovina, in the midst of the Carpathian\n",
      "mountains; one of the wildest and least known portions of Europe. I was\n",
      "not able to light on any map or work giving the exact locality of the\n",
      "Castle Dracula, as there are no maps of this country as yet to compare\n",
      "with our own Ordnance Survey maps; but I found that Bistritz, the post\n",
      "\n"
     ]
    }
   ],
   "source": [
    "print(drac_text[:2000])"
   ]
  },
  {
   "cell_type": "code",
   "execution_count": null,
   "metadata": {},
   "outputs": [],
   "source": [
    "*Your challenge is to use your coding skills to calculate the average number of words per sentence in Cat Person and the opening four chapters of Dracula. (Meaningless bonus points awarded if you are able to provide an analysis of an alternative text...). Use the following empty cell to experiment.\n"
   ]
  },
  {
   "cell_type": "code",
   "execution_count": null,
   "metadata": {},
   "outputs": [],
   "source": [
    "##\n",
    "# @TODO: Print Dracula's number of commas per sentence\n",
    "#\n"
   ]
  },
  {
   "cell_type": "code",
   "execution_count": null,
   "metadata": {},
   "outputs": [],
   "source": [
    "##\n",
    "# @TODO: Find a few instances of an interesting word to you in Dracula\n",
    "#\n"
   ]
  }
 ],
 "metadata": {
  "kernelspec": {
   "display_name": "Python 3 (ipykernel)",
   "language": "python",
   "name": "python3"
  },
  "language_info": {
   "codemirror_mode": {
    "name": "ipython",
    "version": 3
   },
   "file_extension": ".py",
   "mimetype": "text/x-python",
   "name": "python",
   "nbconvert_exporter": "python",
   "pygments_lexer": "ipython3",
   "version": "3.7.8"
  }
 },
 "nbformat": 4,
 "nbformat_minor": 2
}
